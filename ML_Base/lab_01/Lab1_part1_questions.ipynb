{
 "cells": [
  {
   "cell_type": "markdown",
   "metadata": {},
   "source": [
    "*Credits: materials from this notebook belong to YSDA [Practical DL](https://github.com/yandexdataschool/Practical_DL) course. Special thanks for making them available online.*"
   ]
  },
  {
   "cell_type": "markdown",
   "metadata": {},
   "source": [
    "# Lab assignment №1, part 1\n",
    "\n",
    "This lab assignment consists of several parts. You are supposed to make some transformations, train some models, estimate the quality of the models and explain your results.\n",
    "\n",
    "Several comments:\n",
    "* Don't hesitate to ask questions, it's a good practice.\n",
    "* No private/public sharing, please. The copied assignments will be graded with 0 points.\n",
    "* Blocks of this lab will be graded separately."
   ]
  },
  {
   "cell_type": "markdown",
   "metadata": {},
   "source": [
    "## 1. Matrix differentiation"
   ]
  },
  {
   "cell_type": "markdown",
   "metadata": {},
   "source": [
    "Since it easy to google every task please please please try to undestand what's going on. The \"just answer\" thing will be not counted, make sure to present derivation of your solution. It is absolutely OK if you found an answer on web then just exercise in $\\LaTeX$ copying it into here."
   ]
  },
  {
   "cell_type": "markdown",
   "metadata": {},
   "source": [
    "Useful links: \n",
    "[1](http://www.machinelearning.ru/wiki/images/2/2a/Matrix-Gauss.pdf)\n",
    "[2](http://www.atmos.washington.edu/~dennis/MatrixCalculus.pdf)"
   ]
  },
  {
   "cell_type": "markdown",
   "metadata": {},
   "source": [
    "## ex. 1"
   ]
  },
  {
   "cell_type": "markdown",
   "metadata": {},
   "source": [
    "$$  \n",
    "y = x^Tx,  \\quad x \\in \\mathbb{R}^N \n",
    "$$"
   ]
  },
  {
   "cell_type": "markdown",
   "metadata": {},
   "source": [
    "$$\n",
    "\\frac{dy}{dx} = \n",
    "$$ "
   ]
  },
  {
   "cell_type": "markdown",
   "metadata": {},
   "source": [
    "$dy = d\\langle x, x \\rangle = \\langle dx, x \\rangle + \\langle x, dx \\rangle = 2\\langle x, dx \\rangle \\Rightarrow $\n",
    "$$\n",
    "\\frac{dy}{dx} = 2x\n",
    "$$  "
   ]
  },
  {
   "cell_type": "markdown",
   "metadata": {},
   "source": [
    "## ex. 2"
   ]
  },
  {
   "cell_type": "markdown",
   "metadata": {},
   "source": [
    "$$ y = tr(AB) \\quad A,B \\in \\mathbb{R}^{N \\times N} $$ "
   ]
  },
  {
   "cell_type": "markdown",
   "metadata": {},
   "source": [
    "$$\n",
    "\\frac{dy}{dA} =\n",
    "$$"
   ]
  },
  {
   "cell_type": "markdown",
   "metadata": {},
   "source": [
    "Note: $ tr(AB) =  \\langle A^т, B \\rangle$  and $ tr(AB) =  tr(BA)$  \n",
    "$ dtr(AB) =  d\\langle I_N, AB \\rangle = \\langle I_N, d(AB) \\rangle = \\langle I_N, d(A)B \\rangle = tr((dA)B) = tr(B(dA)) = \\langle B^т, dA \\rangle \\Rightarrow $ \n",
    "$$\n",
    "\\frac{dy}{dA} = B^т\n",
    "$$"
   ]
  },
  {
   "cell_type": "markdown",
   "metadata": {},
   "source": [
    "## ex. 3"
   ]
  },
  {
   "cell_type": "markdown",
   "metadata": {},
   "source": [
    "$$  \n",
    "y = x^TAc , \\quad A\\in \\mathbb{R}^{N \\times N}, x\\in \\mathbb{R}^{N}, c\\in \\mathbb{R}^{N} \n",
    "$$"
   ]
  },
  {
   "cell_type": "markdown",
   "metadata": {},
   "source": [
    "$$\n",
    "\\frac{dy}{dx} =\n",
    "$$"
   ]
  },
  {
   "cell_type": "markdown",
   "metadata": {},
   "source": [
    "$$\n",
    "\\frac{dy}{dA} =\n",
    "$$ "
   ]
  },
  {
   "cell_type": "markdown",
   "metadata": {},
   "source": [
    "Hint for the latter (one of the ways): use *ex. 2* result and the fact \n",
    "$$\n",
    "tr(ABC) = tr (CAB)\n",
    "$$"
   ]
  },
  {
   "cell_type": "markdown",
   "metadata": {},
   "source": [
    "$d\\langle x, Ac \\rangle = \\langle dx, Ac \\rangle + \\langle x, dAc \\rangle = \\langle dx, Ac \\rangle \\Rightarrow$\n",
    "$$\n",
    "\\frac{dy}{dx} = AC\n",
    "$$\n",
    "$y = (A^тx)^тc \\Rightarrow d\\langle A^тx, c \\rangle = \\langle d(A^тx), c \\rangle + 0 = \\langle (dx^тA)^т, c \\rangle = \\langle (dxA)^тx, c \\rangle = tr(x^тdAc) = tr(cx^тdA) = \\langle xc^т, dA \\rangle$\n",
    "$$\n",
    "\\frac{dy}{dA} = xc^т\n",
    "$$ "
   ]
  },
  {
   "cell_type": "markdown",
   "metadata": {},
   "source": [
    "## ex. 4"
   ]
  },
  {
   "cell_type": "markdown",
   "metadata": {},
   "source": [
    "Classic matrix factorization example. Given matrix $X$ you need to find $A$, $S$ to approximate $X$. This can be done by simple gradient descent iteratively alternating $A$ and $S$ updates.\n",
    "$$\n",
    "J = || X - AS ||_F^2  , \\quad A\\in \\mathbb{R}^{N \\times R} , \\quad S\\in \\mathbb{R}^{R \\times M}\n",
    "$$\n",
    "$$\n",
    "\\frac{dJ}{dS} = ? \n",
    "$$\n",
    "\n",
    "You may use one of the following approaches:"
   ]
  },
  {
   "cell_type": "markdown",
   "metadata": {},
   "source": [
    "#### First approach\n",
    "Using ex.2 and the fact:\n",
    "$$\n",
    "|| X ||_F^2 = tr(XX^T) \n",
    "$$ \n",
    "it is easy to derive gradients (you can find it in one of the refs). "
   ]
  },
  {
   "cell_type": "markdown",
   "metadata": {},
   "source": [
    "#### Second approach\n",
    "You can use *slightly different techniques* if they suits you. Take a look at this derivation:\n",
    "<img src=\"grad.png\">\n",
    "(excerpt from [Handbook of blind source separation, Jutten, page 517](https://books.google.ru/books?id=PTbj03bYH6kC&printsec=frontcover&dq=Handbook+of+Blind+Source+Separation&hl=en&sa=X&ved=0ahUKEwi-q_apiJDLAhULvXIKHVXJDWcQ6AEIHDAA#v=onepage&q=Handbook%20of%20Blind%20Source%20Separation&f=false), open for better picture)."
   ]
  },
  {
   "cell_type": "markdown",
   "metadata": {},
   "source": [
    "#### Third approach\n",
    "And finally we can use chain rule! \n",
    "let $ F = AS $ \n",
    "\n",
    "**Find**\n",
    "$$\n",
    "\\frac{dJ}{dF} =  \n",
    "$$ \n",
    "and \n",
    "$$\n",
    "\\frac{dF}{dS} =  \n",
    "$$ \n",
    "(the shape should be $ NM \\times RM )$.\n",
    "\n",
    "Now it is easy do get desired gradients:\n",
    "$$\n",
    "\\frac{dJ}{dS} =  \n",
    "$$ "
   ]
  },
  {
   "cell_type": "markdown",
   "metadata": {},
   "source": [
    "$dJ = d\\langle X - F, X - F\\rangle = \\langle d(X - F), X - F\\rangle + \\langle X - F, d(X - F)\\rangle = 2\\langle X - F, 0 - dF\\rangle = \\langle 2(F - X), d(F)\\rangle \\Rightarrow $\n",
    "$$\n",
    "\\frac{dJ}{dF} =  2(F - X)\n",
    "$$ \n",
    "$dF = d(AS) = Ad(S)$\n",
    "$$\n",
    "\\frac{dF}{dS} =  A\n",
    "$$ \n",
    "$dJ(S) = \\langle 2(AS - X), AdS\\rangle = tr(2(AS - X)^тAd(S)) = tr(2(A^т(AS - X))^тdS) = \\langle 2A^т(AS - X), dS$\n",
    "$$\n",
    "\\frac{dJ}{dS} =  2A^т(AS - X)\n",
    "$$ "
   ]
  },
  {
   "cell_type": "markdown",
   "metadata": {
    "collapsed": true,
    "jupyter": {
     "outputs_hidden": true
    }
   },
   "source": [
    "## 2. kNN questions\n",
    "Here come the questions from the assignment0_01. Please, refer to the assignment0_01 to get the context of the questions."
   ]
  },
  {
   "cell_type": "markdown",
   "metadata": {},
   "source": [
    "### Question 1\n",
    "\n",
    "Notice the structured patterns in the distance matrix, where some rows or columns are visible brighter. (Note that with the default color scheme black indicates low distances while white indicates high distances.)\n",
    "\n",
    "- What in the data is the cause behind the distinctly bright rows?\n",
    "- What causes the columns?\n",
    "\n",
    "*Your Answer:* Белые строки могут означать, что тестовый объект находится по расстоянию довольно далеко от тренировочных данных, то есть является выбросом. То же самое можно сказать про столбцы - тренировочный объект это какой-то выброс среди всех остальных\n",
    "\n",
    "\n"
   ]
  },
  {
   "cell_type": "markdown",
   "metadata": {},
   "source": [
    "### Question 2\n",
    "\n",
    "We can also use other distance metrics such as L1 distance.\n",
    "For pixel values $p_{ij}^{(k)}$ at location $(i,j)$ of some image $I_k$, \n",
    "\n",
    "the mean $\\mu$ across all pixels over all images is $$\\mu=\\frac{1}{nhw}\\sum_{k=1}^n\\sum_{i=1}^{h}\\sum_{j=1}^{w}p_{ij}^{(k)}$$\n",
    "And the pixel-wise mean $\\mu_{ij}$ across all images is \n",
    "$$\\mu_{ij}=\\frac{1}{n}\\sum_{k=1}^np_{ij}^{(k)}.$$\n",
    "The general standard deviation $\\sigma$ and pixel-wise standard deviation $\\sigma_{ij}$ is defined similarly.\n",
    "\n",
    "Which of the following preprocessing steps will not change the performance of a Nearest Neighbor classifier that uses L1 distance? Select all that apply.\n",
    "1. Subtracting the mean $\\mu$ ($\\tilde{p}_{ij}^{(k)}=p_{ij}^{(k)}-\\mu$.)\n",
    "2. Subtracting the per pixel mean $\\mu_{ij}$  ($\\tilde{p}_{ij}^{(k)}=p_{ij}^{(k)}-\\mu_{ij}$.)\n",
    "3. Subtracting the mean $\\mu$ and dividing by the standard deviation $\\sigma$.\n",
    "4. Subtracting the pixel-wise mean $\\mu_{ij}$ and dividing by the pixel-wise standard deviation $\\sigma_{ij}$.\n",
    "5. Rotating the coordinate axes of the data.\n",
    "\n",
    "*Your Answer:* 1, 2, 3\n",
    "\n",
    "*Your Explanation:*  \n",
    "1) Если мы из всех точек вычтем одно и тоже число, то все они одинаково сместятся по координатной оси и на расстояние между ними это не повлияет: |(a - d) - (b - d)| = |a - b|  \n",
    "2) То же самое, при вычитании одного числа из $p_{ij}$ у нас получается, что при подсчете нормы $\\tilde{p}_{ij}^{(k)} и \\tilde{p}_{ij}^{(l)}$ это число сократиться, значит на результат не повлияет  \n",
    "3) Если мы поделим все точки на одно и то же число, то соотношение между расстояниями сохраниться, оно просто уменьшится  в $\\sigma$ раз. А про среднее это в первом пункте объяснялось, все сохранится  \n",
    "4) Здесь уже наши рассуждения не прокатят, потому что будем еще вдобавок делить на разные числа и расстояния поменяются\n",
    "5) Приведем контр пример:  \n",
    "пусть если векторы a=(1, 0), b=(1, 1), c=(0, 0).  \n",
    "Тогда соотношения между нормами будут такими: |a - c| = 1 < 2 = |b - c|.  \n",
    "А теперь повернем их вокруг точки (0, 0) на 45 градусов по часовой стрелке. Тогда координаты станут a = ($\\sqrt{2}, \\sqrt{2}$), b = (1, 0), c = (0, 0)  \n",
    "А расстояния |a - c| = $2\\sqrt{2}$ > |b - c| = 1. И получили противоречие, и соотношения между расстояниями не сохраняются после ротации\n"
   ]
  },
  {
   "cell_type": "markdown",
   "metadata": {},
   "source": [
    "## Question 3\n",
    "\n",
    "Which of the following statements about $k$-Nearest Neighbor ($k$-NN) are true in a classification setting, and for all $k$? Select all that apply.\n",
    "1. The decision boundary (hyperplane between classes in feature space) of the k-NN classifier is linear.\n",
    "2. The training error of a 1-NN will always be lower than that of 5-NN.\n",
    "3. The test error of a 1-NN will always be lower than that of a 5-NN.\n",
    "4. The time needed to classify a test example with the k-NN classifier grows with the size of the training set.\n",
    "5. None of the above.\n",
    "\n",
    "*Your Answer:* 2, 4\n",
    "\n",
    "\n",
    "*Your Explanation:*\n",
    "1) Мы принимаем решения для каждой точки по отдельности в ($k$-NN) классификаторе, значит decision boundary будет выглядеть как объединение окружностей у каждой точки, и следовательно не линейная.\n",
    "2) Ключевое слово здесь, что мы смотрим на тренировочной выборке. Если мы будем использовать 1-NN классификатор, то у нас просто во время обучения для каждой точки не будет рассматриваться ни одного соседа и мы поставим этой точке ее же значение, а когда будем считать ошибку, то получится 100% score. А вот в случае 5-NN, там решение будет приниматься учитывая больше точек и значит уже не однозначно та же самя метка проставится и ошибка будет большее  \n",
    "3) Следуя тем же рассуждениям что и в пункте выше, но уже будем использовать тестовую выборку, а там будут другие данные, и они не будут совпадать с тренировочными, где для каждой точки мы просто проставили ее же метку в 1-NN, значит ошибка будет больше, чем когда мы будем принимать решение о метки, опираясь на несколько точек вокруг  \n",
    "4) Так как мы считаем расстояние от каждой точки до всех, значит при увеличении количества точек, время на подсчет будет расти  \n",
    "\n"
   ]
  }
 ],
 "metadata": {
  "kernelspec": {
   "display_name": "Python 3.8.10 ('myenv': venv)",
   "language": "python",
   "name": "python3"
  },
  "language_info": {
   "codemirror_mode": {
    "name": "ipython",
    "version": 3
   },
   "file_extension": ".py",
   "mimetype": "text/x-python",
   "name": "python",
   "nbconvert_exporter": "python",
   "pygments_lexer": "ipython3",
   "version": "3.8.10"
  },
  "vscode": {
   "interpreter": {
    "hash": "a76379361df25a6b21ff3d3e9a6d44007a58712f0942142c99d27ab5655a1774"
   }
  }
 },
 "nbformat": 4,
 "nbformat_minor": 4
}
